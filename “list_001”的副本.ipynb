{
  "nbformat": 4,
  "nbformat_minor": 0,
  "metadata": {
    "colab": {
      "provenance": [],
      "authorship_tag": "ABX9TyN24z/vWn4mHBE0NufgLsOO",
      "include_colab_link": true
    },
    "kernelspec": {
      "name": "python3",
      "display_name": "Python 3"
    },
    "language_info": {
      "name": "python"
    }
  },
  "cells": [
    {
      "cell_type": "markdown",
      "metadata": {
        "id": "view-in-github",
        "colab_type": "text"
      },
      "source": [
        "<a href=\"https://colab.research.google.com/github/taienchen/ENGG680_2025_Fall/blob/test/%E2%80%9Clist_001%E2%80%9D%E7%9A%84%E5%89%AF%E6%9C%AC.ipynb\" target=\"_parent\"><img src=\"https://colab.research.google.com/assets/colab-badge.svg\" alt=\"Open In Colab\"/></a>"
      ]
    },
    {
      "cell_type": "code",
      "execution_count": null,
      "metadata": {
        "colab": {
          "base_uri": "https://localhost:8080/"
        },
        "id": "-33F1Ml6-cHV",
        "outputId": "ec5d6a78-201e-4b3e-ec98-1b8d98139a0f"
      },
      "outputs": [
        {
          "output_type": "stream",
          "name": "stdout",
          "text": [
            "[4, 23, 6, 17]\n",
            "[4, 6, 17, 23]\n",
            "[23, 17, 6, 4]\n",
            "3\n",
            "6\n"
          ]
        }
      ],
      "source": [
        "numbers=[4,23,6,17]\n",
        "print(numbers)\n",
        "numbers.sort()\n",
        "print(numbers)\n",
        "numbers.sort(reverse=True)\n",
        "print(numbers)\n",
        "print(numbers.index(4))\n",
        "print(numbers[2])"
      ]
    }
  ]
}